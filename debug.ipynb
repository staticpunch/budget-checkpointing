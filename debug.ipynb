{
 "cells": [
  {
   "cell_type": "code",
   "execution_count": 13,
   "id": "d0b51eab-24ea-458a-b341-375b97dfc947",
   "metadata": {
    "editable": true,
    "jupyter": {
     "source_hidden": true
    },
    "slideshow": {
     "slide_type": ""
    },
    "tags": []
   },
   "outputs": [
    {
     "name": "stdout",
     "output_type": "stream",
     "text": [
      " pen and paper sheets for younger children with less handwriting ie pen moves but sensitive to marking pressure in pastel coloured crayones.\n",
      "There are numerous session on building fairytale scenes from the mark with regents secondary school level should write assessments 92 differentiated\n"
     ]
    }
   ],
   "source": [
    "from litgpt import LLM\n",
    "\n",
    "llm = LLM.load(\"/workspace/budget-checkpointing/model_hub/Llama-3.2-1B/\")\n",
    "text = llm.generate(\"good work\")\n",
    "print(text)"
   ]
  },
  {
   "cell_type": "markdown",
   "id": "db216498-7215-46b5-a729-60d3e5c5b067",
   "metadata": {
    "editable": true,
    "slideshow": {
     "slide_type": ""
    },
    "tags": []
   },
   "source": [
    "# Debug utils"
   ]
  },
  {
   "cell_type": "markdown",
   "id": "6ac722ae-079b-486f-a8f6-515e18892892",
   "metadata": {},
   "source": [
    "## Imports"
   ]
  },
  {
   "cell_type": "code",
   "execution_count": 2,
   "id": "44fab41e-f6d6-40f2-9c9c-e6d31bf9ddb0",
   "metadata": {
    "editable": true,
    "slideshow": {
     "slide_type": ""
    },
    "tags": []
   },
   "outputs": [],
   "source": [
    "from functools import partial\n",
    "from typing import Callable, Optional, Tuple, Union\n",
    "\n",
    "import torch\n",
    "import torch.utils.checkpoint\n",
    "from torch import nn\n",
    "\n",
    "from transformers.activations import ACT2FN\n",
    "from transformers.cache_utils import Cache, DynamicCache, StaticCache\n",
    "from transformers.generation import GenerationMixin\n",
    "from transformers.modeling_attn_mask_utils import AttentionMaskConverter\n",
    "from transformers.modeling_flash_attention_utils import FlashAttentionKwargs\n",
    "from transformers.modeling_outputs import (\n",
    "    BaseModelOutputWithPast,\n",
    "    CausalLMOutputWithPast,\n",
    "    QuestionAnsweringModelOutput,\n",
    "    SequenceClassifierOutputWithPast,\n",
    "    TokenClassifierOutput,\n",
    ")\n",
    "from transformers.modeling_rope_utils import ROPE_INIT_FUNCTIONS, dynamic_rope_update\n",
    "from transformers.modeling_utils import ALL_ATTENTION_FUNCTIONS, PreTrainedModel\n",
    "from transformers.processing_utils import Unpack\n",
    "from transformers.pytorch_utils import ALL_LAYERNORM_LAYERS\n",
    "from transformers.utils import (\n",
    "    LossKwargs,\n",
    "    add_code_sample_docstrings,\n",
    "    add_start_docstrings,\n",
    "    add_start_docstrings_to_model_forward,\n",
    "    can_return_tuple,\n",
    "    is_torch_flex_attn_available,\n",
    "    logging,\n",
    "    replace_return_docstrings,\n",
    ")\n",
    "from transformers.utils.deprecation import deprecate_kwarg\n",
    "from models.llama.configuration_llama import LlamaConfig\n",
    "\n",
    "\n",
    "if is_torch_flex_attn_available():\n",
    "    from torch.nn.attention.flex_attention import BlockMask\n",
    "\n",
    "    from transformers.integrations.flex_attention import make_flex_block_causal_mask\n",
    "\n",
    "\n",
    "logger = logging.get_logger(__name__)\n",
    "\n",
    "_CHECKPOINT_FOR_DOC = \"meta-llama/Llama-2-7b-hf\"\n",
    "_CONFIG_FOR_DOC = \"LlamaConfig\""
   ]
  },
  {
   "cell_type": "code",
   "execution_count": 26,
   "id": "6d48cfec-11d8-46fb-8027-70266f538853",
   "metadata": {},
   "outputs": [],
   "source": [
    "class Output(dict):\n",
    "    \"\"\"\n",
    "    Dictionary subclass that allows attribute-style access while maintaining\n",
    "    normal dictionary access methods.\n",
    "    \"\"\"\n",
    "    def __init__(self, *args, **kwargs):\n",
    "        super(Output, self).__init__(*args, **kwargs)\n",
    "        self.__dict__ = self\n",
    "        \n",
    "    def __getitem__(self, key):\n",
    "        return super(Output, self).__getitem__(key)\n",
    "    \n",
    "    def __setitem__(self, key, value):\n",
    "        super(Output, self).__setitem__(key, value)\n",
    "        \n",
    "    def copy(self):\n",
    "        return Output(self)"
   ]
  },
  {
   "cell_type": "markdown",
   "id": "3a842c8e-9df6-46bf-8359-75dd914c77e1",
   "metadata": {},
   "source": [
    "## Utils"
   ]
  },
  {
   "cell_type": "code",
   "execution_count": 8,
   "id": "ed022b15-b85d-4ec8-aa2d-2dbd2e6b95c3",
   "metadata": {
    "editable": true,
    "slideshow": {
     "slide_type": ""
    },
    "tags": []
   },
   "outputs": [],
   "source": [
    "from transformers import AutoTokenizer\n",
    "from models.llama.modeling_llama import LlamaForCausalLM\n",
    "import torch\n",
    "\n",
    "model_id = \"/workspace/budget-checkpointing/model_hub/Llama-3.2-1B/\"\n",
    "tokenizer = AutoTokenizer.from_pretrained(model_id)\n",
    "model = LlamaForCausalLM.from_pretrained(model_id, torch_dtype=torch.bfloat16)\n",
    "model = model.to(\"cuda:0\")"
   ]
  },
  {
   "cell_type": "code",
   "execution_count": 137,
   "id": "6d8aa433-c9f5-44df-bd08-db6b6ea9409f",
   "metadata": {
    "editable": true,
    "slideshow": {
     "slide_type": ""
    },
    "tags": []
   },
   "outputs": [],
   "source": [
    "text = \"When I was I kid I used to\"\n",
    "texts = [\n",
    "    \"Hanoi is the capital of Vietnam.\",\n",
    "    \"Boys are stupid.\"\n",
    "]"
   ]
  },
  {
   "cell_type": "code",
   "execution_count": 39,
   "id": "2e7d1e9b-c4e1-408a-97bb-0d929ede4e55",
   "metadata": {
    "editable": true,
    "slideshow": {
     "slide_type": ""
    },
    "tags": []
   },
   "outputs": [],
   "source": [
    "def init_decoder_input(\n",
    "    text, model, tokenizer, \n",
    "    use_cache=False, \n",
    "    output_hidden_states=True, \n",
    "    output_attentions=False\n",
    "):\n",
    "    \"\"\"\n",
    "    Initialize the input for LlamaModel forward pass.\n",
    "    \n",
    "    Args:\n",
    "        text: Text to tokenize and process\n",
    "        model: LlamaModel instance\n",
    "        tokenizer: LlamaTokenizer instance\n",
    "        use_cache: Whether to use KV cache\n",
    "        output_hidden_states: Whether to output all hidden states\n",
    "        output_attentions: Whether to output attention weights\n",
    "        \n",
    "    Returns:\n",
    "        Dictionary with all required inputs for model forward pass\n",
    "    \"\"\"\n",
    "    # Tokenize the input text\n",
    "    inputs = tokenizer(text, return_tensors=\"pt\").to(model.device)\n",
    "    input_ids = inputs[\"input_ids\"]\n",
    "    attention_mask = inputs[\"attention_mask\"]\n",
    "    \n",
    "    # Initialize caching variables\n",
    "    past_key_values = DynamicCache() if use_cache else None\n",
    "    \n",
    "    model.eval()\n",
    "    \n",
    "    with torch.no_grad():\n",
    "        # Get input embeddings\n",
    "        inputs_embeds = model.embed_tokens(input_ids)\n",
    "        \n",
    "        # Calculate cache position\n",
    "        cache_position = None\n",
    "        past_seen_tokens = past_key_values.get_seq_length() if past_key_values is not None else 0\n",
    "        cache_position = torch.arange(\n",
    "            past_seen_tokens, \n",
    "            past_seen_tokens + inputs_embeds.shape[1], \n",
    "            device=inputs_embeds.device\n",
    "        )\n",
    "        \n",
    "        # Calculate position IDs\n",
    "        position_ids = cache_position.unsqueeze(0)\n",
    "        \n",
    "        # Create causal mask\n",
    "        causal_mask = model._update_causal_mask(\n",
    "            attention_mask, \n",
    "            inputs_embeds, \n",
    "            cache_position, \n",
    "            past_key_values, \n",
    "            output_attentions\n",
    "        )\n",
    "        \n",
    "        # Initial hidden states are just the input embeddings\n",
    "        hidden_states = inputs_embeds\n",
    "        \n",
    "        # Create position embeddings\n",
    "        position_embeddings = model.rotary_emb(hidden_states, position_ids)\n",
    "    \n",
    "    # Return all inputs needed for model.forward()\n",
    "    return Output(\n",
    "        input_ids=input_ids,\n",
    "        attention_mask=causal_mask,\n",
    "        position_ids=position_ids,\n",
    "        past_key_values=past_key_values,\n",
    "        inputs_embeds=inputs_embeds,\n",
    "        use_cache=use_cache,\n",
    "        output_attentions=output_attentions,\n",
    "        output_hidden_states=output_hidden_states,\n",
    "        cache_position=cache_position,\n",
    "        position_embeddings=position_embeddings,\n",
    "    )"
   ]
  },
  {
   "cell_type": "code",
   "execution_count": 43,
   "id": "d07e39f5-99d5-422e-960c-4dd6c55d3e95",
   "metadata": {
    "editable": true,
    "slideshow": {
     "slide_type": ""
    },
    "tags": []
   },
   "outputs": [],
   "source": [
    "decoder_input = init_input(\n",
    "    text=text,\n",
    "    model=model.model,\n",
    "    tokenizer=tokenizer\n",
    ")"
   ]
  },
  {
   "cell_type": "code",
   "execution_count": 42,
   "id": "bc5e79c4-95dd-4b5f-9564-d72b46bfb801",
   "metadata": {
    "editable": true,
    "slideshow": {
     "slide_type": ""
    },
    "tags": []
   },
   "outputs": [],
   "source": [
    "def decoder_forward(\n",
    "        self,\n",
    "        hidden_states: torch.Tensor,\n",
    "        attention_mask: Optional[torch.Tensor] = None,\n",
    "        position_ids: Optional[torch.LongTensor] = None,\n",
    "        past_key_value: Optional[Cache] = None,\n",
    "        output_attentions: Optional[bool] = False,\n",
    "        use_cache: Optional[bool] = False,\n",
    "        cache_position: Optional[torch.LongTensor] = None,\n",
    "        position_embeddings: Optional[Tuple[torch.Tensor, torch.Tensor]] = None,  # necessary, but kept here for BC\n",
    "        **kwargs: Unpack[FlashAttentionKwargs],\n",
    ") -> Tuple[torch.FloatTensor, Optional[Tuple[torch.FloatTensor, torch.FloatTensor]]]:\n",
    "        \n",
    "        checkpoints = []\n",
    "        residual = hidden_states\n",
    "        checkpoints.append(dict(value=residual, desc=\"residual\"))\n",
    "\n",
    "        hidden_states = self.input_layernorm(hidden_states)\n",
    "        checkpoints.append(dict(value=hidden_states, desc=\"after input_layernorm\"))\n",
    "\n",
    "        # Self Attention\n",
    "        hidden_states, self_attn_weights = self.self_attn(\n",
    "            hidden_states=hidden_states,\n",
    "            attention_mask=attention_mask,\n",
    "            position_ids=position_ids,\n",
    "            past_key_value=past_key_value,\n",
    "            output_attentions=output_attentions,\n",
    "            use_cache=use_cache,\n",
    "            cache_position=cache_position,\n",
    "            position_embeddings=position_embeddings,\n",
    "            **kwargs,\n",
    "        )\n",
    "        checkpoints.append(dict(value=hidden_states, desc=\"after self_attn\"))\n",
    "\n",
    "        hidden_states = residual + hidden_states\n",
    "        checkpoints.append(dict(value=hidden_states, desc=\"after first skip connection\"))\n",
    "\n",
    "        # Fully Connected\n",
    "        residual = hidden_states\n",
    "        hidden_states = self.post_attention_layernorm(hidden_states)\n",
    "        checkpoints.append(dict(value=hidden_states, desc=\"after post_attention_layernorm\"))\n",
    "        hidden_states = self.mlp(hidden_states)\n",
    "        checkpoints.append(dict(value=hidden_states, desc=\"after mlp\"))\n",
    "        hidden_states = residual + hidden_states\n",
    "        checkpoints.append(dict(value=hidden_states, desc=\"after second skip connection\"))\n",
    "\n",
    "        outputs = (hidden_states,)\n",
    "        if output_attentions:\n",
    "            outputs += (self_attn_weights,)\n",
    "\n",
    "        return Output(\n",
    "            outputs=outputs,\n",
    "            checkpoints=checkpoints\n",
    "        )\n"
   ]
  },
  {
   "cell_type": "code",
   "execution_count": 50,
   "id": "bba009f5-850c-4d8d-87e7-c283bd063616",
   "metadata": {
    "editable": true,
    "scrolled": true,
    "slideshow": {
     "slide_type": ""
    },
    "tags": []
   },
   "outputs": [
    {
     "data": {
      "text/plain": [
       "dict_keys(['input_ids', 'attention_mask', 'position_ids', 'past_key_values', 'inputs_embeds', 'use_cache', 'output_attentions', 'output_hidden_states', 'cache_position', 'position_embeddings'])"
      ]
     },
     "execution_count": 50,
     "metadata": {},
     "output_type": "execute_result"
    }
   ],
   "source": [
    "decoder_input.keys()"
   ]
  },
  {
   "cell_type": "code",
   "execution_count": 85,
   "id": "92cb769a-336d-446a-a4ad-b61011786281",
   "metadata": {
    "editable": true,
    "slideshow": {
     "slide_type": ""
    },
    "tags": []
   },
   "outputs": [],
   "source": [
    "decoder_input.attention_mask"
   ]
  },
  {
   "cell_type": "code",
   "execution_count": 45,
   "id": "d705efa0-5fd6-4602-98e7-096769ac06b4",
   "metadata": {},
   "outputs": [
    {
     "data": {
      "text/plain": [
       "LlamaDecoderLayer(\n",
       "  (self_attn): LlamaAttention(\n",
       "    (q_proj): Linear(in_features=2048, out_features=2048, bias=False)\n",
       "    (k_proj): Linear(in_features=2048, out_features=512, bias=False)\n",
       "    (v_proj): Linear(in_features=2048, out_features=512, bias=False)\n",
       "    (o_proj): Linear(in_features=2048, out_features=2048, bias=False)\n",
       "  )\n",
       "  (mlp): LlamaMLP(\n",
       "    (gate_proj): Linear(in_features=2048, out_features=8192, bias=False)\n",
       "    (up_proj): Linear(in_features=2048, out_features=8192, bias=False)\n",
       "    (down_proj): Linear(in_features=8192, out_features=2048, bias=False)\n",
       "    (act_fn): SiLU()\n",
       "  )\n",
       "  (input_layernorm): LlamaRMSNorm((2048,), eps=1e-05)\n",
       "  (post_attention_layernorm): LlamaRMSNorm((2048,), eps=1e-05)\n",
       ")"
      ]
     },
     "execution_count": 45,
     "metadata": {},
     "output_type": "execute_result"
    }
   ],
   "source": [
    "decoder0 = model.model.layers[0]\n",
    "decoder0"
   ]
  },
  {
   "cell_type": "code",
   "execution_count": 53,
   "id": "da7d8c48-eebc-4bb0-b831-470510bf0fa5",
   "metadata": {
    "editable": true,
    "slideshow": {
     "slide_type": ""
    },
    "tags": []
   },
   "outputs": [],
   "source": [
    "decoder_output = decoder_forward(\n",
    "    self=model.model.layers[0],\n",
    "    hidden_states=decoder_input.inputs_embeds,\n",
    "    attention_mask=decoder_input.attention_mask,\n",
    "    position_ids=decoder_input.position_ids,\n",
    "    past_key_value=decoder_input.past_key_values,\n",
    "    output_attentions=False,\n",
    "    use_cache=False,\n",
    "    cache_position=decoder_input.cache_position,\n",
    "    position_embeddings=decoder_input.position_embeddings,\n",
    ")"
   ]
  },
  {
   "cell_type": "code",
   "execution_count": 55,
   "id": "74be0366-18d9-4946-a137-e2e8e779cac9",
   "metadata": {},
   "outputs": [
    {
     "data": {
      "text/plain": [
       "{'value': tensor([[[ 0.0028,  0.0033, -0.0099,  ..., -0.0018,  0.0008,  0.0007],\n",
       "          [ 0.0248, -0.0036,  0.0308,  ...,  0.0057, -0.0294, -0.0105],\n",
       "          [ 0.0233,  0.0102,  0.0383,  ..., -0.0037, -0.0302, -0.0154],\n",
       "          ...,\n",
       "          [ 0.0233,  0.0102,  0.0383,  ..., -0.0037, -0.0302, -0.0154],\n",
       "          [-0.0284, -0.0045, -0.0004,  ...,  0.0129, -0.0276, -0.0047],\n",
       "          [-0.0151,  0.0303,  0.0200,  ..., -0.0099,  0.0095, -0.0204]]],\n",
       "        device='cuda:0', dtype=torch.bfloat16),\n",
       " 'desc': 'residual'}"
      ]
     },
     "execution_count": 55,
     "metadata": {},
     "output_type": "execute_result"
    }
   ],
   "source": [
    "decoder_output.checkpoints[0]"
   ]
  },
  {
   "cell_type": "code",
   "execution_count": 133,
   "id": "7620e339-4e08-4b59-af7d-c62604bf563e",
   "metadata": {},
   "outputs": [],
   "source": [
    "def model_forward(\n",
    "    self,\n",
    "    input_ids: Optional[torch.LongTensor] = None,\n",
    "    attention_mask: Optional[torch.Tensor] = None,\n",
    "    position_ids: Optional[torch.LongTensor] = None,\n",
    "    past_key_values: Optional[Cache] = None,\n",
    "    inputs_embeds: Optional[torch.FloatTensor] = None,\n",
    "    use_cache: Optional[bool] = None,\n",
    "    output_attentions: Optional[bool] = None,\n",
    "    output_hidden_states: Optional[bool] = None,\n",
    "    cache_position: Optional[torch.LongTensor] = None,\n",
    "    **flash_attn_kwargs: Unpack[FlashAttentionKwargs],\n",
    ") -> BaseModelOutputWithPast:\n",
    "    output_attentions = output_attentions if output_attentions is not None else self.config.output_attentions\n",
    "    output_hidden_states = (\n",
    "        output_hidden_states if output_hidden_states is not None else self.config.output_hidden_states\n",
    "    )\n",
    "    use_cache = use_cache if use_cache is not None else self.config.use_cache\n",
    "\n",
    "    if (input_ids is None) ^ (inputs_embeds is not None):\n",
    "        raise ValueError(\"You must specify exactly one of input_ids or inputs_embeds\")\n",
    "\n",
    "    # TODO (joao): remove this exception in v4.56 -- it exists for users that try to pass a legacy cache\n",
    "    if not isinstance(past_key_values, (type(None), Cache)):\n",
    "        raise ValueError(\"The `past_key_values` should be either a `Cache` object or `None`.\")\n",
    "\n",
    "    if inputs_embeds is None:\n",
    "        inputs_embeds = self.embed_tokens(input_ids)\n",
    "\n",
    "    if use_cache and past_key_values is None:\n",
    "        past_key_values = DynamicCache()\n",
    "\n",
    "    if cache_position is None:\n",
    "        past_seen_tokens = past_key_values.get_seq_length() if past_key_values is not None else 0\n",
    "        cache_position = torch.arange(\n",
    "            past_seen_tokens, past_seen_tokens + inputs_embeds.shape[1], device=inputs_embeds.device\n",
    "        )\n",
    "\n",
    "    if position_ids is None:\n",
    "        position_ids = cache_position.unsqueeze(0)\n",
    "\n",
    "    causal_mask = self._update_causal_mask(\n",
    "        attention_mask, inputs_embeds, cache_position, past_key_values, output_attentions\n",
    "    )\n",
    "\n",
    "    hidden_states = inputs_embeds\n",
    "\n",
    "    # create position embeddings to be shared across the decoder layers\n",
    "    position_embeddings = self.rotary_emb(hidden_states, position_ids)\n",
    "\n",
    "    # decoder layers\n",
    "    all_hidden_states = () if output_hidden_states else None\n",
    "    all_self_attns = () if output_attentions else None\n",
    "    all_checkpoints = []\n",
    "\n",
    "    for decoder_layer in self.layers[: self.config.num_hidden_layers]:\n",
    "        if output_hidden_states:\n",
    "            all_hidden_states += (hidden_states,)\n",
    "\n",
    "        debug_output = decoder_forward(\n",
    "            decoder_layer,\n",
    "            hidden_states,\n",
    "            attention_mask=causal_mask,\n",
    "            position_ids=position_ids,\n",
    "            past_key_value=past_key_values,\n",
    "            output_attentions=output_attentions,\n",
    "            use_cache=use_cache,\n",
    "            cache_position=cache_position,\n",
    "            position_embeddings=position_embeddings,\n",
    "            **flash_attn_kwargs,\n",
    "        )\n",
    "\n",
    "        layer_outputs, checkpoints = debug_output.outputs, debug_output.checkpoints\n",
    "        hidden_states = layer_outputs[0]\n",
    "        all_checkpoints.append(checkpoints)\n",
    "\n",
    "        if output_attentions:\n",
    "            all_self_attns += (layer_outputs[1],)\n",
    "\n",
    "    hidden_states = self.norm(hidden_states)\n",
    "\n",
    "    # add hidden states from the last decoder layer\n",
    "    if output_hidden_states:\n",
    "        all_hidden_states += (hidden_states,)\n",
    "\n",
    "    outputs = BaseModelOutputWithPast(\n",
    "        last_hidden_state=hidden_states,\n",
    "        past_key_values=past_key_values if use_cache else None,\n",
    "        hidden_states=all_hidden_states,\n",
    "        attentions=all_self_attns,\n",
    "    )\n",
    "\n",
    "    return Output(\n",
    "        outputs=outputs,\n",
    "        decoder_checkpoints=all_checkpoints,\n",
    "    )"
   ]
  },
  {
   "cell_type": "code",
   "execution_count": 134,
   "id": "b7d12d2c-d75f-49b1-9b7e-1c8d84cae769",
   "metadata": {},
   "outputs": [],
   "source": [
    "inputs = tokenizer(text, return_tensors=\"pt\").to(model.device)\n",
    "input_ids = inputs[\"input_ids\"]\n",
    "model_output = model_forward(model.model, input_ids)"
   ]
  },
  {
   "cell_type": "code",
   "execution_count": 76,
   "id": "b454ee4b-2fa2-4d7c-9122-916c9f86915b",
   "metadata": {
    "editable": true,
    "slideshow": {
     "slide_type": ""
    },
    "tags": []
   },
   "outputs": [],
   "source": [
    "from models.llama.modeling_llama import apply_rotary_pos_emb\n",
    "from models.llama.modeling_llama import eager_attention_forward\n",
    "def attn_forward(\n",
    "    self,\n",
    "    hidden_states: torch.Tensor,\n",
    "    position_embeddings: Tuple[torch.Tensor, torch.Tensor],\n",
    "    attention_mask: Optional[torch.Tensor],\n",
    "    past_key_value: Optional[Cache] = None,\n",
    "    cache_position: Optional[torch.LongTensor] = None,\n",
    "    **kwargs: Unpack[FlashAttentionKwargs],\n",
    ") -> Tuple[torch.Tensor, Optional[torch.Tensor], Optional[Tuple[torch.Tensor]]]:\n",
    "    checkpoints = []\n",
    "    checkpoints.append(dict(value=hidden_states, desc=\"input_hidden_states\")) # 0\n",
    "    \n",
    "    input_shape = hidden_states.shape[:-1]\n",
    "    hidden_shape = (*input_shape, -1, self.head_dim)\n",
    "\n",
    "    query_states = self.q_proj(hidden_states).view(hidden_shape).transpose(1, 2)\n",
    "    checkpoints.append(dict(value=query_states, desc=\"after_q_proj\")) # 1\n",
    "    \n",
    "    key_states = self.k_proj(hidden_states).view(hidden_shape).transpose(1, 2)\n",
    "    checkpoints.append(dict(value=key_states, desc=\"after_k_proj\")) # 2\n",
    "    \n",
    "    value_states = self.v_proj(hidden_states).view(hidden_shape).transpose(1, 2)\n",
    "    checkpoints.append(dict(value=value_states, desc=\"after_v_proj\")) # 3\n",
    "\n",
    "    cos, sin = position_embeddings\n",
    "    query_states, key_states = apply_rotary_pos_emb(query_states, key_states, cos, sin)\n",
    "    checkpoints.append(dict(value=query_states, desc=\"after_rotary_pos_emb_query\")) # 4\n",
    "    checkpoints.append(dict(value=key_states, desc=\"after_rotary_pos_emb_key\")) # 5\n",
    "\n",
    "    if past_key_value is not None:\n",
    "        # sin and cos are specific to RoPE models; cache_position needed for the static cache\n",
    "        cache_kwargs = {\"sin\": sin, \"cos\": cos, \"cache_position\": cache_position}\n",
    "        key_states, value_states = past_key_value.update(key_states, value_states, self.layer_idx, cache_kwargs)\n",
    "        checkpoints.append(dict(value=key_states, desc=\"after_kv_cache_update_key\")) # 6\n",
    "        checkpoints.append(dict(value=value_states, desc=\"after_kv_cache_update_value\")) # 7\n",
    "\n",
    "    attention_interface: Callable = eager_attention_forward\n",
    "    if self.config._attn_implementation != \"eager\":\n",
    "        if self.config._attn_implementation == \"sdpa\" and kwargs.get(\"output_attentions\", False):\n",
    "            logger.warning(\n",
    "                \"`torch.nn.functional.scaled_dot_product_attention` does not support `output_attentions=True`. Falling back to \"\n",
    "                'eager attention. This warning can be removed using the argument `attn_implementation=\"eager\"` when loading the model.'\n",
    "            )\n",
    "        else:\n",
    "            attention_interface = ALL_ATTENTION_FUNCTIONS[self.config._attn_implementation]\n",
    "\n",
    "    attn_output, attn_weights = attention_interface(\n",
    "        self,\n",
    "        query_states,\n",
    "        key_states,\n",
    "        value_states,\n",
    "        attention_mask,\n",
    "        dropout=0.0 if not self.training else self.attention_dropout,\n",
    "        scaling=self.scaling,\n",
    "        **kwargs,\n",
    "    )\n",
    "    checkpoints.append(dict(value=attn_output, desc=\"after_attention\")) # 6/8\n",
    "\n",
    "    attn_output = attn_output.reshape(*input_shape, -1).contiguous()\n",
    "    checkpoints.append(dict(value=attn_output, desc=\"after_reshape\")) # 7/9\n",
    "    \n",
    "    attn_output = self.o_proj(attn_output)\n",
    "    checkpoints.append(dict(value=attn_output, desc=\"after_o_proj\")) # 8/10\n",
    "    \n",
    "    return Output(\n",
    "        outputs=(attn_output, attn_weights),\n",
    "        checkpoints=checkpoints,\n",
    "        attention_interface=attention_interface\n",
    "    )"
   ]
  },
  {
   "cell_type": "code",
   "execution_count": 72,
   "id": "9f2d06ca-0464-4a8b-820d-48a8723924e0",
   "metadata": {
    "editable": true,
    "slideshow": {
     "slide_type": ""
    },
    "tags": []
   },
   "outputs": [
    {
     "data": {
      "text/plain": [
       "(LlamaAttention(\n",
       "   (q_proj): Linear(in_features=2048, out_features=2048, bias=False)\n",
       "   (k_proj): Linear(in_features=2048, out_features=512, bias=False)\n",
       "   (v_proj): Linear(in_features=2048, out_features=512, bias=False)\n",
       "   (o_proj): Linear(in_features=2048, out_features=2048, bias=False)\n",
       " ),\n",
       " 4)"
      ]
     },
     "execution_count": 72,
     "metadata": {},
     "output_type": "execute_result"
    }
   ],
   "source": [
    "self_attn = model.model.layers[0].self_attn\n",
    "self_attn, self_attn.num_key_value_groups"
   ]
  },
  {
   "cell_type": "code",
   "execution_count": 63,
   "id": "b9c99b4b-4915-4973-8ae2-31b6352cf926",
   "metadata": {},
   "outputs": [],
   "source": [
    "attn_output = attn_forward(\n",
    "    self=model.model.layers[0].self_attn,\n",
    "    hidden_states=decoder_input.inputs_embeds,\n",
    "    position_embeddings=decoder_input.position_embeddings,\n",
    "    attention_mask=decoder_input.attention_mask,\n",
    "    past_key_value=decoder_input.past_key_values,\n",
    "    cache_position=decoder_input.cache_position\n",
    ")"
   ]
  },
  {
   "cell_type": "code",
   "execution_count": 79,
   "id": "83b6ed72-ad59-49a3-b937-ce0ec7795dfc",
   "metadata": {},
   "outputs": [],
   "source": [
    "query_states = attn_output.checkpoints[4][\"value\"]\n",
    "key_states = attn_output.checkpoints[5][\"value\"]\n",
    "value_states = attn_output.checkpoints[3][\"value\"]"
   ]
  },
  {
   "cell_type": "code",
   "execution_count": 71,
   "id": "45014b68-fd7c-4abb-a3a6-dcd17555bddb",
   "metadata": {
    "editable": true,
    "slideshow": {
     "slide_type": ""
    },
    "tags": []
   },
   "outputs": [],
   "source": [
    "# Original SDPA employed by Huggingface\n",
    "\n",
    "from typing import Optional, Tuple\n",
    "\n",
    "import torch\n",
    "\n",
    "\n",
    "def repeat_kv(hidden_states: torch.Tensor, n_rep: int) -> torch.Tensor:\n",
    "    \"\"\"\n",
    "    This is the equivalent of torch.repeat_interleave(x, dim=1, repeats=n_rep). The hidden states go from (batch,\n",
    "    num_key_value_heads, seqlen, head_dim) to (batch, num_attention_heads, seqlen, head_dim)\n",
    "    \"\"\"\n",
    "    batch, num_key_value_heads, slen, head_dim = hidden_states.shape\n",
    "    if n_rep == 1:\n",
    "        return hidden_states\n",
    "    hidden_states = hidden_states[:, :, None, :, :].expand(batch, num_key_value_heads, n_rep, slen, head_dim)\n",
    "    return hidden_states.reshape(batch, num_key_value_heads * n_rep, slen, head_dim)\n",
    "\n",
    "\n",
    "def sdpa_attention_forward(\n",
    "    module: torch.nn.Module,\n",
    "    query: torch.Tensor,\n",
    "    key: torch.Tensor,\n",
    "    value: torch.Tensor,\n",
    "    attention_mask: Optional[torch.Tensor],\n",
    "    dropout: float = 0.0,\n",
    "    scaling: Optional[float] = None,\n",
    "    is_causal: Optional[bool] = None,\n",
    "    **kwargs,\n",
    ") -> Tuple[torch.Tensor, None]:\n",
    "    if hasattr(module, \"num_key_value_groups\"):\n",
    "        key = repeat_kv(key, module.num_key_value_groups)\n",
    "        value = repeat_kv(value, module.num_key_value_groups)\n",
    "\n",
    "    causal_mask = attention_mask\n",
    "    if attention_mask is not None and causal_mask.ndim == 4:\n",
    "        causal_mask = causal_mask[:, :, :, : key.shape[-2]]\n",
    "\n",
    "    # SDPA with memory-efficient backend is bugged with non-contiguous inputs and custom attn_mask for some torch versions\n",
    "    # Reference: https://github.com/pytorch/pytorch/issues/112577.\n",
    "    query = query.contiguous()\n",
    "    key = key.contiguous()\n",
    "    value = value.contiguous()\n",
    "\n",
    "    # We dispatch to SDPA's Flash Attention or Efficient kernels via this `is_causal` if statement instead of an inline conditional assignment\n",
    "    # in SDPA to support both torch.compile's dynamic shapes and full graph options. An inline conditional prevents dynamic shapes from compiling.\n",
    "    # Note that it is important to check first for the shape, otherwise compile will fail with `argument 'is_causal' must be bool, not SymBool`\n",
    "    if is_causal is None:\n",
    "        is_causal = query.shape[2] > 1 and causal_mask is None\n",
    "\n",
    "    # Shapes (e.g. query.shape[2]) are tensors during jit tracing, resulting in `is_causal` being a tensor.\n",
    "    # We convert it to a bool for the SDPA kernel that only accepts bools.\n",
    "    if torch.jit.is_tracing() and isinstance(is_causal, torch.Tensor):\n",
    "        is_causal = is_causal.item()\n",
    "\n",
    "    attn_output = torch.nn.functional.scaled_dot_product_attention(\n",
    "        query,\n",
    "        key,\n",
    "        value,\n",
    "        attn_mask=causal_mask,\n",
    "        dropout_p=dropout,\n",
    "        scale=scaling,\n",
    "        is_causal=is_causal,\n",
    "    )\n",
    "    attn_output = attn_output.transpose(1, 2).contiguous()\n",
    "\n",
    "    return attn_output, None"
   ]
  },
  {
   "cell_type": "code",
   "execution_count": 121,
   "id": "7039fc8a-f8ee-4dac-b89f-3f3f64fcd4b6",
   "metadata": {},
   "outputs": [],
   "source": [
    "import matplotlib.pyplot as plt\n",
    "import numpy as np\n",
    "import torch\n",
    "from pathlib import Path\n",
    "from typing import Optional, Union\n",
    "\n",
    "def visualize_mask(\n",
    "    mask: Union[torch.Tensor, np.ndarray],\n",
    "    name: str = \"attention_mask\",\n",
    "    path: Optional[Path] = None,\n",
    "    cmap: str = \"Blues\",\n",
    "    figsize: tuple = (8, 6),\n",
    ") -> Path:\n",
    "    \"\"\"Visualize an attention mask matrix.\"\"\"\n",
    "    if isinstance(mask, torch.Tensor):\n",
    "        mask = mask.detach().cpu().numpy()\n",
    "    if mask.dtype == bool:\n",
    "        mask = mask.astype(np.int32)\n",
    "    \n",
    "    fig, ax = plt.subplots(figsize=figsize)\n",
    "    im = ax.imshow(mask, cmap=cmap)\n",
    "    fig.colorbar(im)\n",
    "    \n",
    "    ax.set_title(name.replace(\"_\", \" \").title())\n",
    "    ax.set_xlabel(\"Key Tokens\")\n",
    "    ax.set_ylabel(\"Query Tokens\")\n",
    "    \n",
    "    n_query, n_kv = mask.shape\n",
    "    if n_query <= 32 and n_kv <= 32:\n",
    "        ax.set_xticks(range(n_kv))\n",
    "        ax.set_xticklabels([f\"K{i}\" for i in range(n_kv)])\n",
    "        ax.set_yticks(range(n_query))\n",
    "        ax.set_yticklabels([f\"Q{i}\" for i in range(n_query)])\n",
    "        # ax.grid(color=\"black\", linestyle=\"-\", linewidth=0.5)\n",
    "        \n",
    "        # Align grid with pixel boundaries\n",
    "        ax.set_xticks(np.arange(-0.5, n_kv, 1), minor=True)\n",
    "        ax.set_yticks(np.arange(-0.5, n_query, 1), minor=True)\n",
    "        ax.grid(which=\"minor\", color=\"black\", linestyle=\"-\", linewidth=1)\n",
    "\n",
    "    plt.show()"
   ]
  },
  {
   "cell_type": "code",
   "execution_count": 86,
   "id": "a36c82e8-74b8-4b26-91a7-b12498a84fb2",
   "metadata": {},
   "outputs": [
    {
     "data": {
      "text/plain": [
       "torch.Size([1, 32, 9, 64])"
      ]
     },
     "execution_count": 86,
     "metadata": {},
     "output_type": "execute_result"
    }
   ],
   "source": [
    "query_states.shape"
   ]
  },
  {
   "cell_type": "code",
   "execution_count": 94,
   "id": "270dbde2-3719-45e5-9951-e9d025da1c3f",
   "metadata": {
    "editable": true,
    "slideshow": {
     "slide_type": ""
    },
    "tags": []
   },
   "outputs": [],
   "source": [
    "attn_output1, _ = sdpa_attention_forward(\n",
    "    module=model.model.layers[0].self_attn,\n",
    "    query=query_states,\n",
    "    key=key_states,\n",
    "    value=value_states,\n",
    "    attention_mask=None,\n",
    "    dropout=0.0,\n",
    "    scale=None,\n",
    "    is_causal=True\n",
    ")"
   ]
  },
  {
   "cell_type": "code",
   "execution_count": 84,
   "id": "1359de3a-1305-4bed-ab6d-5e8d67b6c711",
   "metadata": {},
   "outputs": [
    {
     "data": {
      "text/plain": [
       "torch.Size([1, 9, 32, 64])"
      ]
     },
     "execution_count": 84,
     "metadata": {},
     "output_type": "execute_result"
    }
   ],
   "source": [
    "attn_output.shape"
   ]
  },
  {
   "cell_type": "code",
   "execution_count": 89,
   "id": "ac1d3a6c-e41c-41df-b0ec-a2ee12cf8cd5",
   "metadata": {},
   "outputs": [
    {
     "data": {
      "text/plain": [
       "9"
      ]
     },
     "execution_count": 89,
     "metadata": {},
     "output_type": "execute_result"
    }
   ],
   "source": [
    "key_states.shape[-2]"
   ]
  },
  {
   "cell_type": "code",
   "execution_count": 92,
   "id": "4514d20b-f718-482c-8e23-554b85c13ebb",
   "metadata": {
    "editable": true,
    "slideshow": {
     "slide_type": ""
    },
    "tags": []
   },
   "outputs": [],
   "source": [
    "from torch.nn.attention.flex_attention import create_mask\n",
    "def causal_mask(b, h, q_idx, kv_idx):\n",
    "    return q_idx >= kv_idx\n",
    "\n",
    "S = query_states.shape[-2]\n",
    "manual_mask = create_mask(causal_mask, 1, 1, S, S, device=query_states.device)"
   ]
  },
  {
   "cell_type": "code",
   "execution_count": 95,
   "id": "9e928098-bebc-43b9-96da-7b133ca7e9c9",
   "metadata": {
    "editable": true,
    "slideshow": {
     "slide_type": ""
    },
    "tags": []
   },
   "outputs": [],
   "source": [
    "attn_output2, _ = sdpa_attention_forward(\n",
    "    module=model.model.layers[0].self_attn,\n",
    "    query=query_states,\n",
    "    key=key_states,\n",
    "    value=value_states,\n",
    "    attention_mask=manual_mask,\n",
    "    dropout=0.0,\n",
    "    scale=None,\n",
    "    is_causal=True\n",
    ")"
   ]
  },
  {
   "cell_type": "code",
   "execution_count": 97,
   "id": "d77731de-89d1-4fce-b36d-a4e7dd08a978",
   "metadata": {},
   "outputs": [],
   "source": [
    "torch.testing.assert_close(attn_output1, attn_output2)"
   ]
  },
  {
   "cell_type": "code",
   "execution_count": 122,
   "id": "39181f6b-3834-45f0-a0a2-aaba4a8c0779",
   "metadata": {
    "editable": true,
    "slideshow": {
     "slide_type": ""
    },
    "tags": []
   },
   "outputs": [
    {
     "data": {
      "image/png": "[encoded data removed]",
      "text/plain": [
       "<Figure size 800x600 with 2 Axes>"
      ]
     },
     "metadata": {},
     "output_type": "display_data"
    }
   ],
   "source": [
    "visualize_mask(manual_mask[0,0,:,:])"
   ]
  },
  {
   "cell_type": "code",
   "execution_count": 111,
   "id": "4a90e225-a4e0-410a-aaa1-06d50f0e5365",
   "metadata": {},
   "outputs": [
    {
     "data": {
      "text/plain": [
       "tensor([[1, 1, 1, 1, 1, 1, 1, 1, 1]], device='cuda:0')"
      ]
     },
     "execution_count": 111,
     "metadata": {},
     "output_type": "execute_result"
    }
   ],
   "source": [
    "inputs = tokenizer(text, return_tensors=\"pt\").to(model.device)\n",
    "inputs[\"attention_mask\"]"
   ]
  }
 ],
 "metadata": {
  "kernelspec": {
   "display_name": "Python 3 (ipykernel)",
   "language": "python",
   "name": "python3"
  },
  "language_info": {
   "codemirror_mode": {
    "name": "ipython",
    "version": 3
   },
   "file_extension": ".py",
   "mimetype": "text/x-python",
   "name": "python",
   "nbconvert_exporter": "python",
   "pygments_lexer": "ipython3",
   "version": "3.11.10"
  }
 },
 "nbformat": 4,
 "nbformat_minor": 5
}
